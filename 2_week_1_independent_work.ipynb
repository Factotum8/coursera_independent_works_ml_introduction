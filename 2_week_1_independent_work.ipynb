{
 "cells": [
  {
   "cell_type": "markdown",
   "metadata": {},
   "source": [
    "# Выбор числа соседей"
   ]
  },
  {
   "cell_type": "markdown",
   "metadata": {},
   "source": [
    "## 1. Загрузите выборку Wine по адресу https://archive.ics.uci.edu/ml/machine-learning-databases/wine/wine.data (файл также приложен к этому заданию)  \n",
    "Извлеките из данных признаки и классы. Класс записан в первом столбце (три варианта), признаки — в столбцах со второго по последний. Более подробно о сути признаков можно прочитать по адресу https://archive.ics.uci.edu/ml/datasets/Wine (см. также файл wine.names, приложенный к заданию)"
   ]
  },
  {
   "cell_type": "code",
   "execution_count": 1,
   "metadata": {},
   "outputs": [
    {
     "name": "stdout",
     "output_type": "stream",
     "text": [
      "178\n"
     ]
    },
    {
     "data": {
      "text/html": [
       "<div>\n",
       "<style scoped>\n",
       "    .dataframe tbody tr th:only-of-type {\n",
       "        vertical-align: middle;\n",
       "    }\n",
       "\n",
       "    .dataframe tbody tr th {\n",
       "        vertical-align: top;\n",
       "    }\n",
       "\n",
       "    .dataframe thead th {\n",
       "        text-align: right;\n",
       "    }\n",
       "</style>\n",
       "<table border=\"1\" class=\"dataframe\">\n",
       "  <thead>\n",
       "    <tr style=\"text-align: right;\">\n",
       "      <th></th>\n",
       "      <th>Grape variety</th>\n",
       "      <th>Alcohol</th>\n",
       "      <th>Malic acid</th>\n",
       "      <th>Ash</th>\n",
       "      <th>Alcalinity of ash</th>\n",
       "      <th>Magnesium</th>\n",
       "      <th>Total phenols</th>\n",
       "      <th>Flavanoids</th>\n",
       "      <th>Nonflavanoid phenols</th>\n",
       "      <th>Proanthocyanins</th>\n",
       "      <th>Color intensity</th>\n",
       "      <th>Hue</th>\n",
       "      <th>OD280/OD315 of diluted wines</th>\n",
       "      <th>Proline</th>\n",
       "    </tr>\n",
       "  </thead>\n",
       "  <tbody>\n",
       "    <tr>\n",
       "      <th>0</th>\n",
       "      <td>1</td>\n",
       "      <td>14.23</td>\n",
       "      <td>1.71</td>\n",
       "      <td>2.43</td>\n",
       "      <td>15.6</td>\n",
       "      <td>127</td>\n",
       "      <td>2.80</td>\n",
       "      <td>3.06</td>\n",
       "      <td>0.28</td>\n",
       "      <td>2.29</td>\n",
       "      <td>5.64</td>\n",
       "      <td>1.04</td>\n",
       "      <td>3.92</td>\n",
       "      <td>1065</td>\n",
       "    </tr>\n",
       "    <tr>\n",
       "      <th>1</th>\n",
       "      <td>1</td>\n",
       "      <td>13.20</td>\n",
       "      <td>1.78</td>\n",
       "      <td>2.14</td>\n",
       "      <td>11.2</td>\n",
       "      <td>100</td>\n",
       "      <td>2.65</td>\n",
       "      <td>2.76</td>\n",
       "      <td>0.26</td>\n",
       "      <td>1.28</td>\n",
       "      <td>4.38</td>\n",
       "      <td>1.05</td>\n",
       "      <td>3.40</td>\n",
       "      <td>1050</td>\n",
       "    </tr>\n",
       "    <tr>\n",
       "      <th>2</th>\n",
       "      <td>1</td>\n",
       "      <td>13.16</td>\n",
       "      <td>2.36</td>\n",
       "      <td>2.67</td>\n",
       "      <td>18.6</td>\n",
       "      <td>101</td>\n",
       "      <td>2.80</td>\n",
       "      <td>3.24</td>\n",
       "      <td>0.30</td>\n",
       "      <td>2.81</td>\n",
       "      <td>5.68</td>\n",
       "      <td>1.03</td>\n",
       "      <td>3.17</td>\n",
       "      <td>1185</td>\n",
       "    </tr>\n",
       "    <tr>\n",
       "      <th>3</th>\n",
       "      <td>1</td>\n",
       "      <td>14.37</td>\n",
       "      <td>1.95</td>\n",
       "      <td>2.50</td>\n",
       "      <td>16.8</td>\n",
       "      <td>113</td>\n",
       "      <td>3.85</td>\n",
       "      <td>3.49</td>\n",
       "      <td>0.24</td>\n",
       "      <td>2.18</td>\n",
       "      <td>7.80</td>\n",
       "      <td>0.86</td>\n",
       "      <td>3.45</td>\n",
       "      <td>1480</td>\n",
       "    </tr>\n",
       "    <tr>\n",
       "      <th>4</th>\n",
       "      <td>1</td>\n",
       "      <td>13.24</td>\n",
       "      <td>2.59</td>\n",
       "      <td>2.87</td>\n",
       "      <td>21.0</td>\n",
       "      <td>118</td>\n",
       "      <td>2.80</td>\n",
       "      <td>2.69</td>\n",
       "      <td>0.39</td>\n",
       "      <td>1.82</td>\n",
       "      <td>4.32</td>\n",
       "      <td>1.04</td>\n",
       "      <td>2.93</td>\n",
       "      <td>735</td>\n",
       "    </tr>\n",
       "  </tbody>\n",
       "</table>\n",
       "</div>"
      ],
      "text/plain": [
       "   Grape variety  Alcohol  Malic acid   Ash  Alcalinity of ash  Magnesium  \\\n",
       "0              1    14.23        1.71  2.43               15.6        127   \n",
       "1              1    13.20        1.78  2.14               11.2        100   \n",
       "2              1    13.16        2.36  2.67               18.6        101   \n",
       "3              1    14.37        1.95  2.50               16.8        113   \n",
       "4              1    13.24        2.59  2.87               21.0        118   \n",
       "\n",
       "   Total phenols  Flavanoids  Nonflavanoid phenols  Proanthocyanins  \\\n",
       "0           2.80        3.06                  0.28             2.29   \n",
       "1           2.65        2.76                  0.26             1.28   \n",
       "2           2.80        3.24                  0.30             2.81   \n",
       "3           3.85        3.49                  0.24             2.18   \n",
       "4           2.80        2.69                  0.39             1.82   \n",
       "\n",
       "   Color intensity   Hue  OD280/OD315 of diluted wines  Proline  \n",
       "0             5.64  1.04                          3.92     1065  \n",
       "1             4.38  1.05                          3.40     1050  \n",
       "2             5.68  1.03                          3.17     1185  \n",
       "3             7.80  0.86                          3.45     1480  \n",
       "4             4.32  1.04                          2.93      735  "
      ]
     },
     "execution_count": 1,
     "metadata": {},
     "output_type": "execute_result"
    }
   ],
   "source": [
    "import pandas as pd\n",
    "import numpy as np\n",
    "columns = ['Grape variety', 'Alcohol', 'Malic acid', 'Ash', 'Alcalinity of ash', 'Magnesium', 'Total phenols', 'Flavanoids', \n",
    "           'Nonflavanoid phenols', 'Proanthocyanins', 'Color intensity', 'Hue', 'OD280/OD315 of diluted wines', 'Proline']\n",
    "data = pd.read_csv('./data/wine.data', sep=\",\", names=columns)  \n",
    "print(len(data))\n",
    "data.head()"
   ]
  },
  {
   "cell_type": "code",
   "execution_count": 2,
   "metadata": {},
   "outputs": [],
   "source": [
    "from sklearn.neighbors import KNeighborsClassifier\n",
    "clf = KNeighborsClassifier"
   ]
  },
  {
   "cell_type": "markdown",
   "metadata": {},
   "source": [
    "## 3. Оценку качества необходимо провести методом кросс-валидации по 5 блокам (5-fold). Создайте генератор разбиений, который перемешивает выборку перед формированием блоков (shuffle=True). Для воспроизводимости результата, создавайте генератор KFold с фиксированным параметром random_state=42. В качестве меры качества используйте долю верных ответов (accuracy).  \n",
    "Создается генератор разбиений sklearn.model_selection.KFold, который задает набор разбиений на обучение и валидацию. Число блоков в кросс-валидации определяется параметром n_splits. Обратите внимание, что порядок следования объектов в выборке может быть неслучайным, это может привести к смещенности кросс-валидационной оценки. Чтобы устранить такой эффект, объекты выборки случайно перемешивают перед разбиением на блоки. Для перемешивания достаточно передать генератору KFold параметр shuffle=True."
   ]
  },
  {
   "cell_type": "code",
   "execution_count": 3,
   "metadata": {},
   "outputs": [
    {
     "name": "stdout",
     "output_type": "stream",
     "text": [
      "0.20.3\n"
     ]
    }
   ],
   "source": [
    "import sklearn\n",
    "from sklearn.model_selection import KFold\n",
    "\n",
    "print(sklearn.__version__)\n",
    "\n",
    "split_generator = KFold(n_splits=5, shuffle=True, random_state=42)\n",
    "X = data[columns[1:]]\n",
    "# y = data[columns[:1]] так нельзя \n",
    "y = data['Grape variety']"
   ]
  },
  {
   "cell_type": "markdown",
   "metadata": {},
   "source": [
    "## 4. Найдите точность классификации на кросс-валидации для метода k ближайших соседей (sklearn.neighbors.KNeighborsClassifier), при k от 1 до 50. При каком k получилось оптимальное качество? Чему оно равно (число в интервале от 0 до 1)? Данные результаты и будут ответами на вопросы 1 и 2.  \n",
    "Вычислить качество на всех разбиениях можно при помощи функции sklearn.model_selection.cross_val_score. В качестве параметра estimator передается классификатор, в качестве параметра cv — генератор разбиений с предыдущего шага. С помощью параметра scoring можно задавать меру качества, по умолчанию в задачах классификации используется доля верных ответов (accuracy). Результатом является массив, значения которого нужно усреднить."
   ]
  },
  {
   "cell_type": "code",
   "execution_count": 4,
   "metadata": {},
   "outputs": [
    {
     "name": "stdout",
     "output_type": "stream",
     "text": [
      "iteration: 1, cvs: 0.7304761904761905\n",
      "iteration: 2, cvs: 0.6625396825396825\n",
      "iteration: 3, cvs: 0.7082539682539682\n",
      "iteration: 4, cvs: 0.6577777777777778\n",
      "iteration: 5, cvs: 0.6746031746031746\n",
      "iteration: 6, cvs: 0.6742857142857144\n",
      "iteration: 7, cvs: 0.68\n",
      "iteration: 8, cvs: 0.6799999999999999\n",
      "iteration: 9, cvs: 0.7023809523809523\n",
      "iteration: 10, cvs: 0.6801587301587302\n",
      "iteration: 11, cvs: 0.7025396825396826\n",
      "iteration: 12, cvs: 0.6966666666666667\n",
      "iteration: 13, cvs: 0.6909523809523809\n",
      "iteration: 14, cvs: 0.6793650793650794\n",
      "iteration: 15, cvs: 0.701904761904762\n",
      "iteration: 16, cvs: 0.6795238095238096\n",
      "iteration: 17, cvs: 0.7015873015873015\n",
      "iteration: 18, cvs: 0.6795238095238095\n",
      "iteration: 19, cvs: 0.6793650793650793\n",
      "iteration: 20, cvs: 0.6909523809523809\n",
      "iteration: 21, cvs: 0.7019047619047619\n",
      "iteration: 22, cvs: 0.6965079365079364\n",
      "iteration: 23, cvs: 0.7020634920634921\n",
      "iteration: 24, cvs: 0.7076190476190476\n",
      "iteration: 25, cvs: 0.7019047619047619\n",
      "iteration: 26, cvs: 0.6965079365079365\n",
      "iteration: 27, cvs: 0.6963492063492064\n",
      "iteration: 28, cvs: 0.7079365079365079\n",
      "iteration: 29, cvs: 0.7134920634920634\n",
      "iteration: 30, cvs: 0.7079365079365079\n",
      "iteration: 31, cvs: 0.690952380952381\n",
      "iteration: 32, cvs: 0.7134920634920634\n",
      "iteration: 33, cvs: 0.7134920634920634\n",
      "iteration: 34, cvs: 0.7246031746031747\n",
      "iteration: 35, cvs: 0.7246031746031747\n",
      "iteration: 36, cvs: 0.7134920634920636\n",
      "iteration: 37, cvs: 0.7134920634920634\n",
      "iteration: 38, cvs: 0.7134920634920634\n",
      "iteration: 39, cvs: 0.7079365079365079\n",
      "iteration: 40, cvs: 0.7077777777777777\n",
      "iteration: 41, cvs: 0.7134920634920634\n",
      "iteration: 42, cvs: 0.7077777777777777\n",
      "iteration: 43, cvs: 0.7077777777777777\n",
      "iteration: 44, cvs: 0.7077777777777777\n",
      "iteration: 45, cvs: 0.7077777777777777\n",
      "iteration: 46, cvs: 0.7077777777777777\n",
      "iteration: 47, cvs: 0.6966666666666667\n",
      "iteration: 48, cvs: 0.7190476190476192\n",
      "iteration: 49, cvs: 0.6966666666666667\n"
     ]
    }
   ],
   "source": [
    "from sklearn.neighbors import KNeighborsClassifier\n",
    "from sklearn.model_selection import cross_val_score\n",
    "\n",
    "def cross_val(X_, y_, split_generator_):\n",
    "    cvs_array = np.ndarray(shape=50, dtype=float)\n",
    "    for i in range(1, 50):\n",
    "        clf = KNeighborsClassifier(i)\n",
    "        cvs = cross_val_score(estimator=clf, X=X_, y=y_, cv=split_generator_, scoring='accuracy')\n",
    "        _ =cvs.mean()\n",
    "        print(f\"iteration: {i}, cvs: {_}\")\n",
    "        cvs_array[i-1] = _\n",
    "    return cvs_array\n",
    "\n",
    "def print_(cvs):\n",
    "    print(f\"index: {cvs.argmax()} value: {cvs[cvs.argmax()]} {round(cvs.max(), 2)}\") \n",
    "\n",
    "cvs_1 = cross_val(X, y, split_generator)"
   ]
  },
  {
   "cell_type": "code",
   "execution_count": 5,
   "metadata": {},
   "outputs": [
    {
     "name": "stdout",
     "output_type": "stream",
     "text": [
      "index: 0 value: 0.7304761904761905 0.73\n"
     ]
    }
   ],
   "source": [
    "print_(cvs_1)"
   ]
  },
  {
   "cell_type": "markdown",
   "metadata": {},
   "source": [
    "## 5. Произведите масштабирование признаков с помощью функции sklearn.preprocessing.scale. Снова найдите оптимальное k на кросс-валидации."
   ]
  },
  {
   "cell_type": "code",
   "execution_count": 6,
   "metadata": {},
   "outputs": [
    {
     "name": "stdout",
     "output_type": "stream",
     "text": [
      "iteration: 1, cvs: 0.943968253968254\n",
      "iteration: 2, cvs: 0.9328571428571429\n",
      "iteration: 3, cvs: 0.9550793650793651\n",
      "iteration: 4, cvs: 0.9382539682539683\n",
      "iteration: 5, cvs: 0.9493650793650794\n",
      "iteration: 6, cvs: 0.9495238095238095\n",
      "iteration: 7, cvs: 0.9495238095238095\n",
      "iteration: 8, cvs: 0.9552380952380952\n"
     ]
    },
    {
     "name": "stderr",
     "output_type": "stream",
     "text": [
      "/home/worker/anaconda3/lib/python3.7/site-packages/ipykernel_launcher.py:2: DataConversionWarning: Data with input dtype int64, float64 were all converted to float64 by the scale function.\n",
      "  \n"
     ]
    },
    {
     "name": "stdout",
     "output_type": "stream",
     "text": [
      "iteration: 9, cvs: 0.9607936507936508\n",
      "iteration: 10, cvs: 0.9607936507936508\n",
      "iteration: 11, cvs: 0.9609523809523809\n",
      "iteration: 12, cvs: 0.9552380952380952\n",
      "iteration: 13, cvs: 0.9495238095238093\n",
      "iteration: 14, cvs: 0.9663492063492063\n",
      "iteration: 15, cvs: 0.9720634920634922\n",
      "iteration: 16, cvs: 0.9720634920634922\n",
      "iteration: 17, cvs: 0.9665079365079364\n",
      "iteration: 18, cvs: 0.9665079365079364\n",
      "iteration: 19, cvs: 0.9553968253968254\n",
      "iteration: 20, cvs: 0.9665079365079364\n",
      "iteration: 21, cvs: 0.9609523809523811\n",
      "iteration: 22, cvs: 0.9665079365079364\n",
      "iteration: 23, cvs: 0.9609523809523809\n",
      "iteration: 24, cvs: 0.9552380952380952\n",
      "iteration: 25, cvs: 0.9552380952380952\n",
      "iteration: 26, cvs: 0.9607936507936508\n",
      "iteration: 27, cvs: 0.9552380952380952\n",
      "iteration: 28, cvs: 0.9663492063492063\n",
      "iteration: 29, cvs: 0.9776190476190475\n",
      "iteration: 30, cvs: 0.9607936507936508\n",
      "iteration: 31, cvs: 0.9552380952380952\n",
      "iteration: 32, cvs: 0.9607936507936508\n",
      "iteration: 33, cvs: 0.9663492063492063\n",
      "iteration: 34, cvs: 0.9663492063492063\n",
      "iteration: 35, cvs: 0.9607936507936508\n",
      "iteration: 36, cvs: 0.9607936507936508\n",
      "iteration: 37, cvs: 0.9552380952380952\n",
      "iteration: 38, cvs: 0.9607936507936508\n",
      "iteration: 39, cvs: 0.9607936507936508\n",
      "iteration: 40, cvs: 0.9607936507936508\n",
      "iteration: 41, cvs: 0.9663492063492063\n",
      "iteration: 42, cvs: 0.9607936507936508\n",
      "iteration: 43, cvs: 0.9663492063492063\n",
      "iteration: 44, cvs: 0.9606349206349206\n",
      "iteration: 45, cvs: 0.9663492063492063\n",
      "iteration: 46, cvs: 0.9495238095238095\n",
      "iteration: 47, cvs: 0.9550793650793651\n",
      "iteration: 48, cvs: 0.9495238095238095\n",
      "iteration: 49, cvs: 0.9550793650793651\n"
     ]
    }
   ],
   "source": [
    "from sklearn import preprocessing\n",
    "X = preprocessing.scale(X)\n",
    "cvs_2 = cross_val(X, y, split_generator)"
   ]
  },
  {
   "cell_type": "code",
   "execution_count": 8,
   "metadata": {},
   "outputs": [
    {
     "name": "stdout",
     "output_type": "stream",
     "text": [
      "index: 28 value: 0.9776190476190475 0.98\n"
     ]
    }
   ],
   "source": [
    "print_(cvs_2)"
   ]
  }
 ],
 "metadata": {
  "kernelspec": {
   "display_name": "Python 3",
   "language": "python",
   "name": "python3"
  },
  "language_info": {
   "codemirror_mode": {
    "name": "ipython",
    "version": 3
   },
   "file_extension": ".py",
   "mimetype": "text/x-python",
   "name": "python",
   "nbconvert_exporter": "python",
   "pygments_lexer": "ipython3",
   "version": "3.7.3"
  }
 },
 "nbformat": 4,
 "nbformat_minor": 2
}
