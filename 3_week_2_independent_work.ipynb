{
 "cells": [
  {
   "cell_type": "markdown",
   "metadata": {},
   "source": [
    "# Анализ текстов"
   ]
  },
  {
   "cell_type": "markdown",
   "metadata": {},
   "source": [
    "## Введение\n",
    "\n",
    "Метод опорных векторов (Support Vector Machine, SVM) — один из видов линейных классификаторов. Функционал, который он оптимизирует, направлен на максимизацию ширины разделяющей полосы между классами. Из теории статистического обучения известно, что эта ширина тесно связана с обобщающей способностью алгоритма, а ее максимизация позволяет бороться с переобучением.\n",
    "\n",
    "Одна из причин популярности линейных методов заключается в том, что они хорошо работают на разреженных данных. Так называются выборки с большим количеством признаков, где на каждом объекте большинство признаков равны нулю. Разреженные данные возникают, например, при работе с текстами. Дело в том, что текст удобно кодировать с помощью \"мешка слов\" — формируется столько признаков, сколько всего уникальных слов встречается в текстах, и значение каждого признака равно числу вхождений в документ соответствующего слова. Ясно, что общее число различных слов в наборе текстов может достигать десятков тысяч, и при этом лишь небольшая их часть будет встречаться в одном конкретном тексте.\n",
    "\n",
    "Можно кодировать тексты хитрее, и записывать не количество вхождений слова в текст, а TF-IDF. Это показатель, который равен произведению двух чисел: TF (term frequency) и IDF (inverse document frequency). Первая равна отношению числа вхождений слова в документ к общей длине документа. Вторая величина зависит от того, в скольки документах выборки встречается это слово. Чем больше таких документов, тем меньше IDF. Таким образом, TF-IDF будет иметь высокое значение для тех слов, которые много раз встречаются в данном документе, и редко встречаются в остальных."
   ]
  },
  {
   "cell_type": "markdown",
   "metadata": {},
   "source": [
    "## 1. Загрузите объекты из новостного датасета 20 newsgroups, относящиеся к категориям \"космос\" и \"атеизм\" (инструкция приведена выше). Обратите внимание, что загрузка данных может занять несколько минут"
   ]
  },
  {
   "cell_type": "code",
   "execution_count": 23,
   "metadata": {},
   "outputs": [],
   "source": [
    "from sklearn import datasets\n",
    "import numpy as np\n",
    "from sklearn.model_selection import KFold\n",
    "from sklearn.svm import SVC\n",
    "from sklearn.model_selection import GridSearchCV\n",
    "import pandas as pd\n",
    "\n",
    "newsgroups = datasets.fetch_20newsgroups(\n",
    "                    subset='all', \n",
    "                    categories=['alt.atheism', 'sci.space']\n",
    "             )"
   ]
  },
  {
   "cell_type": "markdown",
   "metadata": {},
   "source": [
    "## 2. Вычислите TF-IDF-признаки для всех текстов. \n",
    "Обратите внимание, что в этом задании мы предлагаем вам вычислить TF-IDF по всем данным. При таком подходе получается, что признаки на обучающем множестве используют информацию из тестовой выборки — но такая ситуация вполне законна, поскольку мы не используем значения целевой переменной из теста. На практике нередко встречаются ситуации, когда признаки объектов тестовой выборки известны на момент обучения, и поэтому можно ими пользоваться при обучении алгоритма.\n",
    "\n",
    "Одна из сложностей работы с текстовыми данными состоит в том, что для них нужно построить числовое представление. Одним из способов нахождения такого представления является вычисление TF-IDF. В Scikit-Learn это реализовано в классе sklearn.feature_extraction.text.TfidfVectorizer. Преобразование обучающей выборки нужно делать с помощью функции fit_transform, тестовой — с помощью transform."
   ]
  },
  {
   "cell_type": "code",
   "execution_count": 3,
   "metadata": {},
   "outputs": [
    {
     "name": "stdout",
     "output_type": "stream",
     "text": [
      "Lenght all data set: 1786\n"
     ]
    }
   ],
   "source": [
    "from sklearn.feature_extraction.text import TfidfVectorizer\n",
    "vectorizer = TfidfVectorizer()\n",
    "print(f\"Lenght all data set: {len(newsgroups.data)}\")\n",
    "train_data_set = newsgroups.data[:1500]\n",
    "test_data_set = newsgroups.data[1500:]\n",
    "\n",
    "train_target = newsgroups.target[:1500]\n",
    "test_target = newsgroups.target[1500:]\n",
    "y = newsgroups.target"
   ]
  },
  {
   "cell_type": "code",
   "execution_count": 4,
   "metadata": {},
   "outputs": [
    {
     "name": "stdout",
     "output_type": "stream",
     "text": [
      "<class 'scipy.sparse.csr.csr_matrix'>\n",
      "(1786, 28382)\n",
      "28382\n",
      "0.0\n",
      "affairs\n"
     ]
    }
   ],
   "source": [
    "X = vectorizer.fit_transform(newsgroups.data)\n",
    "print(type(X))\n",
    "print(X.shape)\n",
    "print(len(vectorizer.get_feature_names()))\n",
    "print(X[1, 4000])\n",
    "print(vectorizer.get_feature_names()[4000])"
   ]
  },
  {
   "cell_type": "markdown",
   "metadata": {},
   "source": [
    "## 3. Подберите минимальный лучший параметр C.\n",
    "Подберите минимальный лучший параметр C из множества [10^-5, 10^-4, ... 10^4, 10^5] для SVM с линейным ядром (kernel='linear') при помощи кросс-валидации по 5 блокам. Укажите параметр random_state=241 и для SVM, и для KFold. В качестве меры качества используйте долю верных ответов (accuracy"
   ]
  },
  {
   "cell_type": "code",
   "execution_count": 5,
   "metadata": {},
   "outputs": [
    {
     "data": {
      "text/plain": [
       "array([1.e-05, 1.e-04, 1.e-03, 1.e-02, 1.e-01, 1.e+00, 1.e+01, 1.e+02,\n",
       "       1.e+03, 1.e+04, 1.e+05])"
      ]
     },
     "execution_count": 5,
     "metadata": {},
     "output_type": "execute_result"
    }
   ],
   "source": [
    "grid = np.power(10.0, np.arange(-5, 6))\n",
    "grid"
   ]
  },
  {
   "cell_type": "code",
   "execution_count": 6,
   "metadata": {},
   "outputs": [
    {
     "data": {
      "text/plain": [
       "GridSearchCV(cv=KFold(n_splits=5, random_state=241, shuffle=True),\n",
       "       error_score='raise-deprecating',\n",
       "       estimator=SVC(C=1.0, cache_size=200, class_weight=None, coef0=0.0,\n",
       "  decision_function_shape='ovr', degree=3, gamma='auto_deprecated',\n",
       "  kernel='linear', max_iter=-1, probability=False, random_state=241,\n",
       "  shrinking=True, tol=0.001, verbose=False),\n",
       "       fit_params=None, iid='warn', n_jobs=-1,\n",
       "       param_grid={'C': array([1.e-05, 1.e-04, 1.e-03, 1.e-02, 1.e-01, 1.e+00, 1.e+01, 1.e+02,\n",
       "       1.e+03, 1.e+04, 1.e+05])},\n",
       "       pre_dispatch='2*n_jobs', refit=True, return_train_score='warn',\n",
       "       scoring='accuracy', verbose=0)"
      ]
     },
     "execution_count": 6,
     "metadata": {},
     "output_type": "execute_result"
    }
   ],
   "source": [
    "grid = {'C': np.power(10.0, np.arange(-5, 6))}\n",
    "cv = KFold(n_splits=5, shuffle=True, random_state=241)\n",
    "clf = SVC(kernel='linear', random_state=241)\n",
    "gs = GridSearchCV(clf, grid, scoring='accuracy', cv=cv, n_jobs=-1)\n",
    "gs.fit(X, y)"
   ]
  },
  {
   "cell_type": "markdown",
   "metadata": {},
   "source": [
    "Первым аргументом в GridSearchCV передается классификатор, для которого будут подбираться значения параметров, вторым — словарь (dict), задающий сетку параметров для перебора. После того, как перебор окончен, можно проанализировать значения качества для всех значений параметров и выбрать наилучший вариант:"
   ]
  },
  {
   "cell_type": "code",
   "execution_count": 7,
   "metadata": {},
   "outputs": [
    {
     "name": "stdout",
     "output_type": "stream",
     "text": [
      "Key: mean_fit_time, value: [3.1987082  3.22697053 3.30407352 3.19902387 2.66859431 1.6336122\n",
      " 1.62071385 1.61784368 1.61691251 1.62077379 1.62024078]\n",
      "\n",
      "Key: std_fit_time, value: [0.04910825 0.06186094 0.03643364 0.05572188 0.01667668 0.02579374\n",
      " 0.02839183 0.03287557 0.01879961 0.02517089 0.03466802]\n",
      "\n",
      "Key: mean_score_time, value: [0.7668314  0.76048298 0.75466666 0.76246572 0.63974233 0.3780375\n",
      " 0.38004193 0.37984109 0.38097835 0.37953    0.37835116]\n",
      "\n",
      "Key: std_score_time, value: [0.00616827 0.00747841 0.00781807 0.00490738 0.00880687 0.00761874\n",
      " 0.00612474 0.00937955 0.01135147 0.00880951 0.0100217 ]\n",
      "\n",
      "Key: param_C, value: [1e-05 0.0001 0.001 0.01 0.1 1.0 10.0 100.0 1000.0 10000.0 100000.0]\n",
      "\n",
      "Key: params, value: [{'C': 1e-05}, {'C': 0.0001}, {'C': 0.001}, {'C': 0.01}, {'C': 0.1}, {'C': 1.0}, {'C': 10.0}, {'C': 100.0}, {'C': 1000.0}, {'C': 10000.0}, {'C': 100000.0}]\n",
      "\n",
      "Key: split0_test_score, value: [0.54469274 0.54469274 0.54469274 0.54469274 0.95810056 0.99441341\n",
      " 0.99441341 0.99441341 0.99441341 0.99441341 0.99441341]\n",
      "\n",
      "Key: split1_test_score, value: [0.57983193 0.57983193 0.57983193 0.57983193 0.94957983 0.9859944\n",
      " 0.9859944  0.9859944  0.9859944  0.9859944  0.9859944 ]\n",
      "\n",
      "Key: split2_test_score, value: [0.57142857 0.57142857 0.57142857 0.57142857 0.95798319 1.\n",
      " 1.         1.         1.         1.         1.        ]\n",
      "\n",
      "Key: split3_test_score, value: [0.50140056 0.50140056 0.50140056 0.50140056 0.93557423 0.99159664\n",
      " 0.99159664 0.99159664 0.99159664 0.99159664 0.99159664]\n",
      "\n",
      "Key: split4_test_score, value: [0.56582633 0.56582633 0.56582633 0.56582633 0.94957983 0.99439776\n",
      " 0.99439776 0.99439776 0.99439776 0.99439776 0.99439776]\n",
      "\n",
      "Key: mean_test_score, value: [0.55263158 0.55263158 0.55263158 0.55263158 0.95016797 0.99328108\n",
      " 0.99328108 0.99328108 0.99328108 0.99328108 0.99328108]\n",
      "\n",
      "Key: std_test_score, value: [0.02811723 0.02811723 0.02811723 0.02811723 0.00821778 0.00455086\n",
      " 0.00455086 0.00455086 0.00455086 0.00455086 0.00455086]\n",
      "\n",
      "Key: rank_test_score, value: [8 8 8 8 7 1 1 1 1 1 1]\n",
      "\n",
      "Key: split0_train_score, value: [0.55462185 0.55462185 0.55462185 0.55462185 0.96078431 1.\n",
      " 1.         1.         1.         1.         1.        ]\n",
      "\n",
      "Key: split1_train_score, value: [0.54583625 0.54583625 0.54583625 0.54583625 0.97060882 1.\n",
      " 1.         1.         1.         1.         1.        ]\n",
      "\n",
      "Key: split2_train_score, value: [0.54793562 0.54793562 0.54793562 0.54793562 0.96081176 0.99930021\n",
      " 1.         1.         1.         1.         1.        ]\n",
      "\n",
      "Key: split3_train_score, value: [0.56543037 0.56543037 0.56543037 0.56543037 0.96151155 0.99930021\n",
      " 1.         1.         1.         1.         1.        ]\n",
      "\n",
      "Key: split4_train_score, value: [0.5493352  0.5493352  0.5493352  0.5493352  0.96780966 1.\n",
      " 1.         1.         1.         1.         1.        ]\n",
      "\n",
      "Key: mean_train_score, value: [0.55263186 0.55263186 0.55263186 0.55263186 0.96430522 0.99972008\n",
      " 1.         1.         1.         1.         1.        ]\n",
      "\n",
      "Key: std_train_score, value: [0.00702659 0.00702659 0.00702659 0.00702659 0.00410907 0.00034283\n",
      " 0.         0.         0.         0.         0.        ]\n",
      "\n"
     ]
    }
   ],
   "source": [
    "for k, v in gs.cv_results_.items():\n",
    "    print(f\"Key: {k}, value: {v}\\n\")"
   ]
  },
  {
   "cell_type": "markdown",
   "metadata": {},
   "source": [
    "## 4. Обучите SVM по всей выборке с оптимальным параметром C, найденным на предыдущем шаге."
   ]
  },
  {
   "cell_type": "code",
   "execution_count": 8,
   "metadata": {},
   "outputs": [
    {
     "name": "stdout",
     "output_type": "stream",
     "text": [
      "[0.55263158 0.55263158 0.55263158 0.55263158 0.95016797 0.99328108\n",
      " 0.99328108 0.99328108 0.99328108 0.99328108 0.99328108]\n",
      "[1e-05 0.0001 0.001 0.01 0.1 1.0 10.0 100.0 1000.0 10000.0 100000.0]\n"
     ]
    }
   ],
   "source": [
    "print(gs.cv_results_['mean_test_score'])\n",
    "print(gs.cv_results_['param_C'])"
   ]
  },
  {
   "cell_type": "code",
   "execution_count": 9,
   "metadata": {},
   "outputs": [
    {
     "name": "stdout",
     "output_type": "stream",
     "text": [
      "5\n",
      "1.0\n"
     ]
    }
   ],
   "source": [
    "print(np.argmax(gs.cv_results_['mean_test_score']))\n",
    "print(gs.cv_results_['param_C'][5])"
   ]
  },
  {
   "cell_type": "code",
   "execution_count": 10,
   "metadata": {},
   "outputs": [
    {
     "data": {
      "text/plain": [
       "SVC(C=1.0, cache_size=200, class_weight=None, coef0=0.0,\n",
       "  decision_function_shape='ovr', degree=3, gamma='auto_deprecated',\n",
       "  kernel='linear', max_iter=-1, probability=False, random_state=241,\n",
       "  shrinking=True, tol=0.001, verbose=False)"
      ]
     },
     "execution_count": 10,
     "metadata": {},
     "output_type": "execute_result"
    }
   ],
   "source": [
    "clf1 = SVC(kernel='linear', C=1.0, random_state=241)\n",
    "clf1.fit(X, y)"
   ]
  },
  {
   "cell_type": "markdown",
   "metadata": {},
   "source": [
    "# 5. Найдите 10 слов с наибольшим абсолютным значением веса (веса хранятся в поле coef_ у svm.SVC). Они являются ответом на это задание. Укажите эти слова через запятую или пробел, в нижнем регистре, в лексикографическом порядке."
   ]
  },
  {
   "cell_type": "code",
   "execution_count": 11,
   "metadata": {},
   "outputs": [
    {
     "name": "stdout",
     "output_type": "stream",
     "text": [
      "0.20.3\n"
     ]
    },
    {
     "data": {
      "text/plain": [
       "<1x28382 sparse matrix of type '<class 'numpy.float64'>'\n",
       "\twith 18404 stored elements in Compressed Sparse Row format>"
      ]
     },
     "execution_count": 11,
     "metadata": {},
     "output_type": "execute_result"
    }
   ],
   "source": [
    "import sklearn\n",
    "print(sklearn.__version__)\n",
    "clf1.coef_"
   ]
  },
  {
   "cell_type": "code",
   "execution_count": 51,
   "metadata": {},
   "outputs": [
    {
     "data": {
      "text/plain": [
       "(1, 28382)"
      ]
     },
     "execution_count": 51,
     "metadata": {},
     "output_type": "execute_result"
    }
   ],
   "source": [
    "coef = clf1.coef_.toarray()\n",
    "coef.shape"
   ]
  },
  {
   "cell_type": "code",
   "execution_count": 52,
   "metadata": {},
   "outputs": [
    {
     "data": {
      "text/plain": [
       "0    0.292581\n",
       "1   -0.123148\n",
       "2    0.000000\n",
       "3    0.000000\n",
       "4    0.000000\n",
       "dtype: float64"
      ]
     },
     "execution_count": 52,
     "metadata": {},
     "output_type": "execute_result"
    }
   ],
   "source": [
    "coef1 = pd.Series(coef[0])\n",
    "coef1.head()"
   ]
  },
  {
   "cell_type": "code",
   "execution_count": 60,
   "metadata": {},
   "outputs": [],
   "source": [
    "top_10 = abs(coef1).sort_values().tail(10)\n",
    "indices=top_10.index\n",
    "feature_mapping=vectorizer.get_feature_names()\n",
    "words = []"
   ]
  },
  {
   "cell_type": "code",
   "execution_count": 61,
   "metadata": {},
   "outputs": [
    {
     "name": "stdout",
     "output_type": "stream",
     "text": [
      "['atheism', 'atheists', 'bible', 'god', 'keith', 'moon', 'religion', 'sci', 'sky', 'space']\n"
     ]
    }
   ],
   "source": [
    "for i in indices:\n",
    "    words.append(feature_mapping[i])\n",
    "\n",
    "print(sorted(words))"
   ]
  }
 ],
 "metadata": {
  "kernelspec": {
   "display_name": "Python 3",
   "language": "python",
   "name": "python3"
  },
  "language_info": {
   "codemirror_mode": {
    "name": "ipython",
    "version": 3
   },
   "file_extension": ".py",
   "mimetype": "text/x-python",
   "name": "python",
   "nbconvert_exporter": "python",
   "pygments_lexer": "ipython3",
   "version": "3.7.3"
  }
 },
 "nbformat": 4,
 "nbformat_minor": 2
}
