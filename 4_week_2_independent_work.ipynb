{
 "cells": [
  {
   "cell_type": "markdown",
   "metadata": {},
   "source": [
    "# [Составление фондового индекса](https://www.coursera.org/learn/vvedenie-mashinnoe-obuchenie/programming/UzPbw/sostavlieniie-fondovogho-indieksa)"
   ]
  },
  {
   "cell_type": "markdown",
   "metadata": {},
   "source": [
    "Метод главных компонент (principal component analysis, PCA) — это один из методов обучения без учителя, который позволяет сформировать новые признаки, являющиеся линейными комбинациями старых. При этом новые признаки строятся так, чтобы сохранить как можно больше дисперсии в данных. Иными словами, метод главных компонент понижает размерность данных оптимальным с точки зрения сохранения дисперсии способом.\n",
    "\n",
    "Основным параметром метода главных компонент является количество новых признаков. Как и в большинстве методов машинного обучения, нет четких рекомендаций по поводу выбора значения этого параметров. Один из подходов — выбирать минимальное число компонент, при котором объясняется не менее определенной доли дисперсии (это означает, что в выборке сохраняется данная доля от исходной дисперсии).\n",
    "\n",
    "В этом задании понадобится измерять схожесть двух наборов величин. Если имеется набор пар измерений (например, одна пара — предсказания двух классификаторов для одного и того же объекта), то охарактеризовать их зависимость друг от друга можно с помощью корреляции Пирсона. Она принимает значения от -1 до 1 и показывает, насколько данные величины линейно зависимы. Если корреляция равна -1 или 1, то величины линейно выражаются друг через друга. Если она равна нулю, то линейная зависимость между величинами отсутствует."
   ]
  },
  {
   "cell_type": "markdown",
   "metadata": {},
   "source": [
    "# 1. Загрузите данные close_prices.csv. В этом файле приведены цены акций 30 компаний на закрытии торгов за каждый день периода. "
   ]
  },
  {
   "cell_type": "code",
   "execution_count": 2,
   "metadata": {},
   "outputs": [
    {
     "data": {
      "text/html": [
       "<div>\n",
       "<style scoped>\n",
       "    .dataframe tbody tr th:only-of-type {\n",
       "        vertical-align: middle;\n",
       "    }\n",
       "\n",
       "    .dataframe tbody tr th {\n",
       "        vertical-align: top;\n",
       "    }\n",
       "\n",
       "    .dataframe thead th {\n",
       "        text-align: right;\n",
       "    }\n",
       "</style>\n",
       "<table border=\"1\" class=\"dataframe\">\n",
       "  <thead>\n",
       "    <tr style=\"text-align: right;\">\n",
       "      <th></th>\n",
       "      <th>date</th>\n",
       "      <th>AXP</th>\n",
       "      <th>BA</th>\n",
       "      <th>CAT</th>\n",
       "      <th>CSCO</th>\n",
       "      <th>CVX</th>\n",
       "      <th>DD</th>\n",
       "      <th>DIS</th>\n",
       "      <th>GE</th>\n",
       "      <th>GS</th>\n",
       "      <th>...</th>\n",
       "      <th>PFE</th>\n",
       "      <th>PG</th>\n",
       "      <th>T</th>\n",
       "      <th>TRV</th>\n",
       "      <th>UNH</th>\n",
       "      <th>UTX</th>\n",
       "      <th>V</th>\n",
       "      <th>VZ</th>\n",
       "      <th>WMT</th>\n",
       "      <th>XOM</th>\n",
       "    </tr>\n",
       "  </thead>\n",
       "  <tbody>\n",
       "    <tr>\n",
       "      <th>0</th>\n",
       "      <td>2013-09-23</td>\n",
       "      <td>76.440002</td>\n",
       "      <td>117.510002</td>\n",
       "      <td>85.029999</td>\n",
       "      <td>24.270000</td>\n",
       "      <td>125.519997</td>\n",
       "      <td>59.409999</td>\n",
       "      <td>64.750000</td>\n",
       "      <td>24.280001</td>\n",
       "      <td>165.250000</td>\n",
       "      <td>...</td>\n",
       "      <td>28.799999</td>\n",
       "      <td>79.279999</td>\n",
       "      <td>34.220001</td>\n",
       "      <td>86.379997</td>\n",
       "      <td>71.820000</td>\n",
       "      <td>109.419998</td>\n",
       "      <td>196.240005</td>\n",
       "      <td>47.980000</td>\n",
       "      <td>76.419998</td>\n",
       "      <td>87.750000</td>\n",
       "    </tr>\n",
       "    <tr>\n",
       "      <th>1</th>\n",
       "      <td>2013-09-24</td>\n",
       "      <td>76.070000</td>\n",
       "      <td>119.000000</td>\n",
       "      <td>85.110001</td>\n",
       "      <td>24.139999</td>\n",
       "      <td>124.489998</td>\n",
       "      <td>59.319997</td>\n",
       "      <td>64.320000</td>\n",
       "      <td>24.320000</td>\n",
       "      <td>162.970001</td>\n",
       "      <td>...</td>\n",
       "      <td>28.709999</td>\n",
       "      <td>78.620003</td>\n",
       "      <td>34.090000</td>\n",
       "      <td>85.870003</td>\n",
       "      <td>72.320000</td>\n",
       "      <td>110.000000</td>\n",
       "      <td>193.339996</td>\n",
       "      <td>47.270000</td>\n",
       "      <td>75.750000</td>\n",
       "      <td>87.360001</td>\n",
       "    </tr>\n",
       "    <tr>\n",
       "      <th>2</th>\n",
       "      <td>2013-09-25</td>\n",
       "      <td>75.989998</td>\n",
       "      <td>118.510002</td>\n",
       "      <td>84.500000</td>\n",
       "      <td>24.430000</td>\n",
       "      <td>124.070000</td>\n",
       "      <td>59.319997</td>\n",
       "      <td>64.449997</td>\n",
       "      <td>24.230000</td>\n",
       "      <td>162.309998</td>\n",
       "      <td>...</td>\n",
       "      <td>28.490000</td>\n",
       "      <td>77.720001</td>\n",
       "      <td>34.049999</td>\n",
       "      <td>85.980003</td>\n",
       "      <td>71.980003</td>\n",
       "      <td>109.260002</td>\n",
       "      <td>191.559998</td>\n",
       "      <td>46.950001</td>\n",
       "      <td>74.650002</td>\n",
       "      <td>87.139999</td>\n",
       "    </tr>\n",
       "    <tr>\n",
       "      <th>3</th>\n",
       "      <td>2013-09-26</td>\n",
       "      <td>76.320000</td>\n",
       "      <td>119.379997</td>\n",
       "      <td>84.199997</td>\n",
       "      <td>23.770000</td>\n",
       "      <td>123.489998</td>\n",
       "      <td>59.509996</td>\n",
       "      <td>65.239998</td>\n",
       "      <td>24.250000</td>\n",
       "      <td>162.289993</td>\n",
       "      <td>...</td>\n",
       "      <td>28.520000</td>\n",
       "      <td>78.050003</td>\n",
       "      <td>34.230000</td>\n",
       "      <td>85.830002</td>\n",
       "      <td>72.160004</td>\n",
       "      <td>109.660004</td>\n",
       "      <td>193.559998</td>\n",
       "      <td>47.669998</td>\n",
       "      <td>74.620003</td>\n",
       "      <td>87.070000</td>\n",
       "    </tr>\n",
       "    <tr>\n",
       "      <th>4</th>\n",
       "      <td>2013-09-27</td>\n",
       "      <td>75.889999</td>\n",
       "      <td>118.739998</td>\n",
       "      <td>83.800003</td>\n",
       "      <td>23.330000</td>\n",
       "      <td>122.639999</td>\n",
       "      <td>59.009995</td>\n",
       "      <td>65.190002</td>\n",
       "      <td>24.049999</td>\n",
       "      <td>159.850006</td>\n",
       "      <td>...</td>\n",
       "      <td>28.879999</td>\n",
       "      <td>77.209999</td>\n",
       "      <td>33.980000</td>\n",
       "      <td>85.410004</td>\n",
       "      <td>71.989998</td>\n",
       "      <td>109.360001</td>\n",
       "      <td>193.050003</td>\n",
       "      <td>47.000000</td>\n",
       "      <td>74.360001</td>\n",
       "      <td>86.900002</td>\n",
       "    </tr>\n",
       "  </tbody>\n",
       "</table>\n",
       "<p>5 rows × 31 columns</p>\n",
       "</div>"
      ],
      "text/plain": [
       "         date        AXP          BA        CAT       CSCO         CVX  \\\n",
       "0  2013-09-23  76.440002  117.510002  85.029999  24.270000  125.519997   \n",
       "1  2013-09-24  76.070000  119.000000  85.110001  24.139999  124.489998   \n",
       "2  2013-09-25  75.989998  118.510002  84.500000  24.430000  124.070000   \n",
       "3  2013-09-26  76.320000  119.379997  84.199997  23.770000  123.489998   \n",
       "4  2013-09-27  75.889999  118.739998  83.800003  23.330000  122.639999   \n",
       "\n",
       "          DD        DIS         GE          GS  ...        PFE         PG  \\\n",
       "0  59.409999  64.750000  24.280001  165.250000  ...  28.799999  79.279999   \n",
       "1  59.319997  64.320000  24.320000  162.970001  ...  28.709999  78.620003   \n",
       "2  59.319997  64.449997  24.230000  162.309998  ...  28.490000  77.720001   \n",
       "3  59.509996  65.239998  24.250000  162.289993  ...  28.520000  78.050003   \n",
       "4  59.009995  65.190002  24.049999  159.850006  ...  28.879999  77.209999   \n",
       "\n",
       "           T        TRV        UNH         UTX           V         VZ  \\\n",
       "0  34.220001  86.379997  71.820000  109.419998  196.240005  47.980000   \n",
       "1  34.090000  85.870003  72.320000  110.000000  193.339996  47.270000   \n",
       "2  34.049999  85.980003  71.980003  109.260002  191.559998  46.950001   \n",
       "3  34.230000  85.830002  72.160004  109.660004  193.559998  47.669998   \n",
       "4  33.980000  85.410004  71.989998  109.360001  193.050003  47.000000   \n",
       "\n",
       "         WMT        XOM  \n",
       "0  76.419998  87.750000  \n",
       "1  75.750000  87.360001  \n",
       "2  74.650002  87.139999  \n",
       "3  74.620003  87.070000  \n",
       "4  74.360001  86.900002  \n",
       "\n",
       "[5 rows x 31 columns]"
      ]
     },
     "execution_count": 2,
     "metadata": {},
     "output_type": "execute_result"
    }
   ],
   "source": [
    "import pandas as pd\n",
    "import numpy as np\n",
    "\n",
    "from sklearn.decomposition import PCA\n",
    "\n",
    "data = pd.read_csv('./data/close_prices.csv')\n",
    "data.head()"
   ]
  },
  {
   "cell_type": "markdown",
   "metadata": {},
   "source": [
    "## 2. На загруженных данных обучите преобразование PCA с числом компоненты равным 10. Скольких компонент хватит, чтобы объяснить 90% дисперсии?"
   ]
  },
  {
   "cell_type": "code",
   "execution_count": 22,
   "metadata": {},
   "outputs": [
    {
     "data": {
      "text/plain": [
       "PCA(copy=True, iterated_power='auto', n_components=10, random_state=None,\n",
       "  svd_solver='auto', tol=0.0, whiten=False)"
      ]
     },
     "execution_count": 22,
     "metadata": {},
     "output_type": "execute_result"
    }
   ],
   "source": [
    "pca = PCA(n_components=10)\n",
    "pca.fit(data.loc[:, 'AXP':])"
   ]
  },
  {
   "cell_type": "code",
   "execution_count": 29,
   "metadata": {},
   "outputs": [
    {
     "name": "stdout",
     "output_type": "stream",
     "text": [
      "[0.73897118 0.11007169 0.04995088 0.0287492  0.02215448 0.01931577\n",
      " 0.00674853 0.00614091 0.00320594 0.00305611]\n",
      "\n",
      "0.988364692910826\n"
     ]
    }
   ],
   "source": [
    "print(f\"{pca.explained_variance_ratio_}\\n\\n{pca.explained_variance_ratio_.sum()}\")"
   ]
  },
  {
   "cell_type": "code",
   "execution_count": 46,
   "metadata": {},
   "outputs": [
    {
     "name": "stdout",
     "output_type": "stream",
     "text": [
      "(1, 0.7389711827152156) (2, 0.8490428728139179) (3, 0.8989937555837079) (4, 0.9277429537836404) (5, 0.9498974326632793) (6, 0.969213199173712) (7, 0.9759617307369696) (8, 0.9821026409235678)\n"
     ]
    }
   ],
   "source": [
    "_ = [(PCA(n_components=i).fit(data.loc[:, 'AXP':])).explained_variance_ratio_.sum() for i in range(1, 9)]\n",
    "print(*enumerate(_, 1))"
   ]
  },
  {
   "cell_type": "code",
   "execution_count": 67,
   "metadata": {},
   "outputs": [
    {
     "data": {
      "text/plain": [
       "array([0.73897118, 0.11007169, 0.04995088, 0.0287492 ])"
      ]
     },
     "execution_count": 67,
     "metadata": {},
     "output_type": "execute_result"
    }
   ],
   "source": [
    "pca = PCA(.9)\n",
    "pca.fit(data.loc[:, 'AXP':]).explained_variance_ratio_"
   ]
  },
  {
   "cell_type": "markdown",
   "metadata": {},
   "source": [
    "# 3. Примените построенное преобразование к исходным данным и возьмите значения первой компоненты. "
   ]
  },
  {
   "cell_type": "code",
   "execution_count": 50,
   "metadata": {},
   "outputs": [],
   "source": [
    "pca = PCA(n_components=4)\n",
    "U = pca.fit_transform(data.loc[:, 'AXP':])"
   ]
  },
  {
   "cell_type": "markdown",
   "metadata": {},
   "source": [
    "# 4. Загрузите информацию об индексе Доу-Джонса из файла djia_index.csv. Чему равна корреляция Пирсона между первой компонентой и индексом Доу-Джонса?\n"
   ]
  },
  {
   "cell_type": "code",
   "execution_count": 47,
   "metadata": {},
   "outputs": [
    {
     "data": {
      "text/html": [
       "<div>\n",
       "<style scoped>\n",
       "    .dataframe tbody tr th:only-of-type {\n",
       "        vertical-align: middle;\n",
       "    }\n",
       "\n",
       "    .dataframe tbody tr th {\n",
       "        vertical-align: top;\n",
       "    }\n",
       "\n",
       "    .dataframe thead th {\n",
       "        text-align: right;\n",
       "    }\n",
       "</style>\n",
       "<table border=\"1\" class=\"dataframe\">\n",
       "  <thead>\n",
       "    <tr style=\"text-align: right;\">\n",
       "      <th></th>\n",
       "      <th>date</th>\n",
       "      <th>^DJI</th>\n",
       "    </tr>\n",
       "  </thead>\n",
       "  <tbody>\n",
       "    <tr>\n",
       "      <th>0</th>\n",
       "      <td>2013-09-23</td>\n",
       "      <td>15401.379883</td>\n",
       "    </tr>\n",
       "    <tr>\n",
       "      <th>1</th>\n",
       "      <td>2013-09-24</td>\n",
       "      <td>15334.589844</td>\n",
       "    </tr>\n",
       "    <tr>\n",
       "      <th>2</th>\n",
       "      <td>2013-09-25</td>\n",
       "      <td>15273.259766</td>\n",
       "    </tr>\n",
       "    <tr>\n",
       "      <th>3</th>\n",
       "      <td>2013-09-26</td>\n",
       "      <td>15328.299805</td>\n",
       "    </tr>\n",
       "    <tr>\n",
       "      <th>4</th>\n",
       "      <td>2013-09-27</td>\n",
       "      <td>15258.240234</td>\n",
       "    </tr>\n",
       "  </tbody>\n",
       "</table>\n",
       "</div>"
      ],
      "text/plain": [
       "         date          ^DJI\n",
       "0  2013-09-23  15401.379883\n",
       "1  2013-09-24  15334.589844\n",
       "2  2013-09-25  15273.259766\n",
       "3  2013-09-26  15328.299805\n",
       "4  2013-09-27  15258.240234"
      ]
     },
     "execution_count": 47,
     "metadata": {},
     "output_type": "execute_result"
    }
   ],
   "source": [
    "djia_index = pd.read_csv('./data/djia_index.csv')\n",
    "djia_index.head()"
   ]
  },
  {
   "cell_type": "code",
   "execution_count": 56,
   "metadata": {},
   "outputs": [
    {
     "data": {
      "text/plain": [
       "array([[1.        , 0.90965222],\n",
       "       [0.90965222, 1.        ]])"
      ]
     },
     "execution_count": 56,
     "metadata": {},
     "output_type": "execute_result"
    }
   ],
   "source": [
    "np.corrcoef(U[:,0], djia_index['^DJI'])"
   ]
  },
  {
   "cell_type": "code",
   "execution_count": 57,
   "metadata": {},
   "outputs": [
    {
     "data": {
      "text/plain": [
       "0.91"
      ]
     },
     "execution_count": 57,
     "metadata": {},
     "output_type": "execute_result"
    }
   ],
   "source": [
    "round(0.90965222, 2)"
   ]
  },
  {
   "cell_type": "markdown",
   "metadata": {},
   "source": [
    "# 5. Какая компания имеет наибольший вес в первой компоненте? Укажите ее название с большой буквы."
   ]
  },
  {
   "cell_type": "code",
   "execution_count": 75,
   "metadata": {},
   "outputs": [
    {
     "data": {
      "text/html": [
       "<div>\n",
       "<style scoped>\n",
       "    .dataframe tbody tr th:only-of-type {\n",
       "        vertical-align: middle;\n",
       "    }\n",
       "\n",
       "    .dataframe tbody tr th {\n",
       "        vertical-align: top;\n",
       "    }\n",
       "\n",
       "    .dataframe thead th {\n",
       "        text-align: right;\n",
       "    }\n",
       "</style>\n",
       "<table border=\"1\" class=\"dataframe\">\n",
       "  <thead>\n",
       "    <tr style=\"text-align: right;\">\n",
       "      <th></th>\n",
       "      <th>AXP</th>\n",
       "      <th>BA</th>\n",
       "      <th>CAT</th>\n",
       "      <th>CSCO</th>\n",
       "      <th>CVX</th>\n",
       "      <th>DD</th>\n",
       "      <th>DIS</th>\n",
       "      <th>GE</th>\n",
       "      <th>GS</th>\n",
       "      <th>HD</th>\n",
       "      <th>...</th>\n",
       "      <th>PFE</th>\n",
       "      <th>PG</th>\n",
       "      <th>T</th>\n",
       "      <th>TRV</th>\n",
       "      <th>UNH</th>\n",
       "      <th>UTX</th>\n",
       "      <th>V</th>\n",
       "      <th>VZ</th>\n",
       "      <th>WMT</th>\n",
       "      <th>XOM</th>\n",
       "    </tr>\n",
       "  </thead>\n",
       "  <tbody>\n",
       "    <tr>\n",
       "      <th>PC-1</th>\n",
       "      <td>0.016138</td>\n",
       "      <td>0.120645</td>\n",
       "      <td>-0.051661</td>\n",
       "      <td>0.050484</td>\n",
       "      <td>-0.125860</td>\n",
       "      <td>0.114090</td>\n",
       "      <td>0.233906</td>\n",
       "      <td>-0.006205</td>\n",
       "      <td>0.251227</td>\n",
       "      <td>0.288996</td>\n",
       "      <td>...</td>\n",
       "      <td>0.023092</td>\n",
       "      <td>0.077732</td>\n",
       "      <td>-0.007206</td>\n",
       "      <td>0.189480</td>\n",
       "      <td>0.321564</td>\n",
       "      <td>0.053683</td>\n",
       "      <td>0.579684</td>\n",
       "      <td>0.000109</td>\n",
       "      <td>0.087161</td>\n",
       "      <td>-0.042942</td>\n",
       "    </tr>\n",
       "    <tr>\n",
       "      <th>PC-2</th>\n",
       "      <td>-0.233026</td>\n",
       "      <td>0.138102</td>\n",
       "      <td>-0.564736</td>\n",
       "      <td>-0.029421</td>\n",
       "      <td>-0.297156</td>\n",
       "      <td>-0.070072</td>\n",
       "      <td>-0.241633</td>\n",
       "      <td>-0.022603</td>\n",
       "      <td>-0.105527</td>\n",
       "      <td>0.031603</td>\n",
       "      <td>...</td>\n",
       "      <td>0.040701</td>\n",
       "      <td>-0.018652</td>\n",
       "      <td>-0.035559</td>\n",
       "      <td>-0.076710</td>\n",
       "      <td>-0.054117</td>\n",
       "      <td>-0.001830</td>\n",
       "      <td>0.106388</td>\n",
       "      <td>-0.032192</td>\n",
       "      <td>0.050303</td>\n",
       "      <td>-0.257983</td>\n",
       "    </tr>\n",
       "    <tr>\n",
       "      <th>PC-3</th>\n",
       "      <td>-0.105902</td>\n",
       "      <td>-0.473845</td>\n",
       "      <td>-0.053749</td>\n",
       "      <td>0.007206</td>\n",
       "      <td>-0.048401</td>\n",
       "      <td>-0.066652</td>\n",
       "      <td>-0.045366</td>\n",
       "      <td>-0.031786</td>\n",
       "      <td>0.348309</td>\n",
       "      <td>0.142316</td>\n",
       "      <td>...</td>\n",
       "      <td>-0.070711</td>\n",
       "      <td>0.135307</td>\n",
       "      <td>-0.001104</td>\n",
       "      <td>0.091877</td>\n",
       "      <td>0.072012</td>\n",
       "      <td>-0.433768</td>\n",
       "      <td>-0.375350</td>\n",
       "      <td>0.022252</td>\n",
       "      <td>-0.012916</td>\n",
       "      <td>-0.164835</td>\n",
       "    </tr>\n",
       "    <tr>\n",
       "      <th>PC-4</th>\n",
       "      <td>-0.326936</td>\n",
       "      <td>0.445168</td>\n",
       "      <td>-0.230866</td>\n",
       "      <td>0.055920</td>\n",
       "      <td>0.124084</td>\n",
       "      <td>0.098464</td>\n",
       "      <td>0.219909</td>\n",
       "      <td>0.002888</td>\n",
       "      <td>-0.051801</td>\n",
       "      <td>0.306424</td>\n",
       "      <td>...</td>\n",
       "      <td>0.005825</td>\n",
       "      <td>-0.040714</td>\n",
       "      <td>0.051274</td>\n",
       "      <td>0.189204</td>\n",
       "      <td>0.297421</td>\n",
       "      <td>0.021500</td>\n",
       "      <td>-0.510710</td>\n",
       "      <td>0.055608</td>\n",
       "      <td>0.025815</td>\n",
       "      <td>-0.040676</td>\n",
       "    </tr>\n",
       "  </tbody>\n",
       "</table>\n",
       "<p>4 rows × 30 columns</p>\n",
       "</div>"
      ],
      "text/plain": [
       "           AXP        BA       CAT      CSCO       CVX        DD       DIS  \\\n",
       "PC-1  0.016138  0.120645 -0.051661  0.050484 -0.125860  0.114090  0.233906   \n",
       "PC-2 -0.233026  0.138102 -0.564736 -0.029421 -0.297156 -0.070072 -0.241633   \n",
       "PC-3 -0.105902 -0.473845 -0.053749  0.007206 -0.048401 -0.066652 -0.045366   \n",
       "PC-4 -0.326936  0.445168 -0.230866  0.055920  0.124084  0.098464  0.219909   \n",
       "\n",
       "            GE        GS        HD  ...       PFE        PG         T  \\\n",
       "PC-1 -0.006205  0.251227  0.288996  ...  0.023092  0.077732 -0.007206   \n",
       "PC-2 -0.022603 -0.105527  0.031603  ...  0.040701 -0.018652 -0.035559   \n",
       "PC-3 -0.031786  0.348309  0.142316  ... -0.070711  0.135307 -0.001104   \n",
       "PC-4  0.002888 -0.051801  0.306424  ...  0.005825 -0.040714  0.051274   \n",
       "\n",
       "           TRV       UNH       UTX         V        VZ       WMT       XOM  \n",
       "PC-1  0.189480  0.321564  0.053683  0.579684  0.000109  0.087161 -0.042942  \n",
       "PC-2 -0.076710 -0.054117 -0.001830  0.106388 -0.032192  0.050303 -0.257983  \n",
       "PC-3  0.091877  0.072012 -0.433768 -0.375350  0.022252 -0.012916 -0.164835  \n",
       "PC-4  0.189204  0.297421  0.021500 -0.510710  0.055608  0.025815 -0.040676  \n",
       "\n",
       "[4 rows x 30 columns]"
      ]
     },
     "execution_count": 75,
     "metadata": {},
     "output_type": "execute_result"
    }
   ],
   "source": [
    "pd.DataFrame(pca.components_, columns=data.columns[1:], index=['PC-1', 'PC-2', 'PC-3', 'PC-4'])"
   ]
  },
  {
   "cell_type": "code",
   "execution_count": 77,
   "metadata": {},
   "outputs": [
    {
     "data": {
      "text/plain": [
       "26"
      ]
     },
     "execution_count": 77,
     "metadata": {},
     "output_type": "execute_result"
    }
   ],
   "source": [
    "np.argmax(pca.components_[0])"
   ]
  },
  {
   "cell_type": "code",
   "execution_count": 86,
   "metadata": {},
   "outputs": [
    {
     "data": {
      "text/plain": [
       "'V'"
      ]
     },
     "execution_count": 86,
     "metadata": {},
     "output_type": "execute_result"
    }
   ],
   "source": [
    "data.columns[27]"
   ]
  }
 ],
 "metadata": {
  "kernelspec": {
   "display_name": "Python 3",
   "language": "python",
   "name": "python3"
  },
  "language_info": {
   "codemirror_mode": {
    "name": "ipython",
    "version": 3
   },
   "file_extension": ".py",
   "mimetype": "text/x-python",
   "name": "python",
   "nbconvert_exporter": "python",
   "pygments_lexer": "ipython3",
   "version": "3.7.3"
  }
 },
 "nbformat": 4,
 "nbformat_minor": 2
}
