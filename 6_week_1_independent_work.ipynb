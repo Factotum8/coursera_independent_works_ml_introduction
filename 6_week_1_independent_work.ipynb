{
 "cells": [
  {
   "cell_type": "markdown",
   "metadata": {},
   "source": [
    "# [Уменьшение количества цветов изображения](https://www.coursera.org/learn/vvedenie-mashinnoe-obuchenie/programming/yWVid/umien-shieniie-kolichiestva-tsvietov-izobrazhieniia)"
   ]
  },
  {
   "cell_type": "markdown",
   "metadata": {},
   "source": [
    "## Введение\n",
    "\n",
    "Самый распространенный тип задач машинного обучения — это задачи обучения с учителем. В них имеется обучающая выборка, для каждого объекта которой есть ответ, и нужно научиться предсказывать эти ответы для новых объектов. В такой постановке можно строго определить критерии качества.\n",
    "\n",
    "Если же имеются лишь объекты, а ответов для них нет, то все равно можно пытаться найти в данных некую структуру. Задачи, которые ищут закономерности в неразмеченных выборках, называют задачами обучения без учителя. Типичный пример такой задачи — кластеризация, где требуется найти группы похожих объектов.\n",
    "\n",
    "Кластеризация может использоваться для самых разных целей. В этом задании мы попробуем группировать схожие пиксели на изображении. Такой подход позволяет переходить к суперпиксельному представлению изображений, которое является более компактным и лучше подходит для решения ряда задач компьютерного зрения."
   ]
  },
  {
   "cell_type": "code",
   "execution_count": 91,
   "metadata": {},
   "outputs": [],
   "source": [
    "import pandas as pd\n",
    "import numpy as np\n",
    "from skimage.io import imread\n",
    "import skimage\n",
    "import pylab\n",
    "from itertools import chain\n",
    "from sklearn.cluster import KMeans\n",
    "import math\n",
    "\n",
    "%matplotlib inline"
   ]
  },
  {
   "cell_type": "markdown",
   "metadata": {},
   "source": [
    "## 1. Загрузите картинку parrots.jpg. \n",
    "Преобразуйте изображение, приведя все значения в интервал от 0 до 1. Для этого можно воспользоваться функцией img_as_float из модуля skimage. Обратите внимание на этот шаг, так как при работе с исходным изображением вы получите некорректный результат."
   ]
  },
  {
   "cell_type": "code",
   "execution_count": 92,
   "metadata": {},
   "outputs": [],
   "source": [
    "image = imread('./data/parrots.jpg')\n",
    "scale_image = skimage.img_as_float64(image)\n",
    "\n",
    "width, height = len(scale_image[1]), len(scale_image)"
   ]
  },
  {
   "cell_type": "markdown",
   "metadata": {},
   "source": [
    "## 2. Создайте матрицу объекты-признаки: характеризуйте каждый пиксель тремя координатами - значениями интенсивности в пространстве RGB."
   ]
  },
  {
   "cell_type": "code",
   "execution_count": 93,
   "metadata": {},
   "outputs": [
    {
     "data": {
      "text/html": [
       "<div>\n",
       "<style scoped>\n",
       "    .dataframe tbody tr th:only-of-type {\n",
       "        vertical-align: middle;\n",
       "    }\n",
       "\n",
       "    .dataframe tbody tr th {\n",
       "        vertical-align: top;\n",
       "    }\n",
       "\n",
       "    .dataframe thead th {\n",
       "        text-align: right;\n",
       "    }\n",
       "</style>\n",
       "<table border=\"1\" class=\"dataframe\">\n",
       "  <thead>\n",
       "    <tr style=\"text-align: right;\">\n",
       "      <th></th>\n",
       "      <th>R</th>\n",
       "      <th>G</th>\n",
       "      <th>B</th>\n",
       "    </tr>\n",
       "  </thead>\n",
       "  <tbody>\n",
       "    <tr>\n",
       "      <th>0</th>\n",
       "      <td>0.015686</td>\n",
       "      <td>0.494118</td>\n",
       "      <td>0.019608</td>\n",
       "    </tr>\n",
       "    <tr>\n",
       "      <th>1</th>\n",
       "      <td>0.007843</td>\n",
       "      <td>0.494118</td>\n",
       "      <td>0.007843</td>\n",
       "    </tr>\n",
       "    <tr>\n",
       "      <th>2</th>\n",
       "      <td>0.007843</td>\n",
       "      <td>0.494118</td>\n",
       "      <td>0.007843</td>\n",
       "    </tr>\n",
       "    <tr>\n",
       "      <th>3</th>\n",
       "      <td>0.007843</td>\n",
       "      <td>0.494118</td>\n",
       "      <td>0.007843</td>\n",
       "    </tr>\n",
       "    <tr>\n",
       "      <th>4</th>\n",
       "      <td>0.007843</td>\n",
       "      <td>0.501961</td>\n",
       "      <td>0.011765</td>\n",
       "    </tr>\n",
       "  </tbody>\n",
       "</table>\n",
       "</div>"
      ],
      "text/plain": [
       "          R         G         B\n",
       "0  0.015686  0.494118  0.019608\n",
       "1  0.007843  0.494118  0.007843\n",
       "2  0.007843  0.494118  0.007843\n",
       "3  0.007843  0.494118  0.007843\n",
       "4  0.007843  0.501961  0.011765"
      ]
     },
     "execution_count": 93,
     "metadata": {},
     "output_type": "execute_result"
    }
   ],
   "source": [
    "listmerge = lambda lst: list(chain(*chain(*lst)))\n",
    "val = listmerge(scale_image)\n",
    "data = pd.DataFrame({'R': val[::3], 'G': val[1::3], 'B': val[2::3]})\n",
    "data.head()"
   ]
  },
  {
   "cell_type": "markdown",
   "metadata": {},
   "source": [
    "## 3. Запустите алгоритм K-Means с параметрами init='k-means++' и random_state=241. \n",
    "После выделения кластеров все пиксели, отнесенные в один кластер, попробуйте заполнить двумя способами: медианным и средним цветом по кластеру."
   ]
  },
  {
   "cell_type": "code",
   "execution_count": 94,
   "metadata": {},
   "outputs": [
    {
     "data": {
      "text/plain": [
       "KMeans(algorithm='auto', copy_x=True, init='k-means++', max_iter=300,\n",
       "    n_clusters=8, n_init=10, n_jobs=None, precompute_distances='auto',\n",
       "    random_state=241, tol=0.0001, verbose=0)"
      ]
     },
     "execution_count": 94,
     "metadata": {},
     "output_type": "execute_result"
    }
   ],
   "source": [
    "# kmeans = KMeans(init='k-means++', random_state=241, n_jobs=-1)\n",
    "kmeans = KMeans(init='k-means++', random_state=241)\n",
    "kmeans"
   ]
  },
  {
   "cell_type": "code",
   "execution_count": 95,
   "metadata": {},
   "outputs": [
    {
     "data": {
      "text/html": [
       "<div>\n",
       "<style scoped>\n",
       "    .dataframe tbody tr th:only-of-type {\n",
       "        vertical-align: middle;\n",
       "    }\n",
       "\n",
       "    .dataframe tbody tr th {\n",
       "        vertical-align: top;\n",
       "    }\n",
       "\n",
       "    .dataframe thead th {\n",
       "        text-align: right;\n",
       "    }\n",
       "</style>\n",
       "<table border=\"1\" class=\"dataframe\">\n",
       "  <thead>\n",
       "    <tr style=\"text-align: right;\">\n",
       "      <th></th>\n",
       "      <th>R</th>\n",
       "      <th>G</th>\n",
       "      <th>B</th>\n",
       "      <th>lable</th>\n",
       "    </tr>\n",
       "  </thead>\n",
       "  <tbody>\n",
       "    <tr>\n",
       "      <th>0</th>\n",
       "      <td>0.015686</td>\n",
       "      <td>0.494118</td>\n",
       "      <td>0.019608</td>\n",
       "      <td>4</td>\n",
       "    </tr>\n",
       "    <tr>\n",
       "      <th>1</th>\n",
       "      <td>0.007843</td>\n",
       "      <td>0.494118</td>\n",
       "      <td>0.007843</td>\n",
       "      <td>4</td>\n",
       "    </tr>\n",
       "    <tr>\n",
       "      <th>2</th>\n",
       "      <td>0.007843</td>\n",
       "      <td>0.494118</td>\n",
       "      <td>0.007843</td>\n",
       "      <td>4</td>\n",
       "    </tr>\n",
       "    <tr>\n",
       "      <th>3</th>\n",
       "      <td>0.007843</td>\n",
       "      <td>0.494118</td>\n",
       "      <td>0.007843</td>\n",
       "      <td>4</td>\n",
       "    </tr>\n",
       "    <tr>\n",
       "      <th>4</th>\n",
       "      <td>0.007843</td>\n",
       "      <td>0.501961</td>\n",
       "      <td>0.011765</td>\n",
       "      <td>4</td>\n",
       "    </tr>\n",
       "  </tbody>\n",
       "</table>\n",
       "</div>"
      ],
      "text/plain": [
       "          R         G         B  lable\n",
       "0  0.015686  0.494118  0.019608      4\n",
       "1  0.007843  0.494118  0.007843      4\n",
       "2  0.007843  0.494118  0.007843      4\n",
       "3  0.007843  0.494118  0.007843      4\n",
       "4  0.007843  0.501961  0.011765      4"
      ]
     },
     "execution_count": 95,
     "metadata": {},
     "output_type": "execute_result"
    }
   ],
   "source": [
    "kmeans8 = kmeans.fit(data)\n",
    "cluster = pd.Series(kmeans8.labels_, name='lable')\n",
    "data_c = data.join(cluster)\n",
    "data_c.head()"
   ]
  },
  {
   "cell_type": "code",
   "execution_count": 96,
   "metadata": {},
   "outputs": [
    {
     "data": {
      "text/html": [
       "<div>\n",
       "<style scoped>\n",
       "    .dataframe tbody tr th:only-of-type {\n",
       "        vertical-align: middle;\n",
       "    }\n",
       "\n",
       "    .dataframe tbody tr th {\n",
       "        vertical-align: top;\n",
       "    }\n",
       "\n",
       "    .dataframe thead th {\n",
       "        text-align: right;\n",
       "    }\n",
       "</style>\n",
       "<table border=\"1\" class=\"dataframe\">\n",
       "  <thead>\n",
       "    <tr style=\"text-align: right;\">\n",
       "      <th></th>\n",
       "      <th>R</th>\n",
       "      <th>G</th>\n",
       "      <th>B</th>\n",
       "      <th>lable</th>\n",
       "    </tr>\n",
       "  </thead>\n",
       "  <tbody>\n",
       "    <tr>\n",
       "      <th>0</th>\n",
       "      <td>0.095647</td>\n",
       "      <td>0.635567</td>\n",
       "      <td>0.066917</td>\n",
       "      <td>4</td>\n",
       "    </tr>\n",
       "    <tr>\n",
       "      <th>1</th>\n",
       "      <td>0.095647</td>\n",
       "      <td>0.635567</td>\n",
       "      <td>0.066917</td>\n",
       "      <td>4</td>\n",
       "    </tr>\n",
       "    <tr>\n",
       "      <th>2</th>\n",
       "      <td>0.095647</td>\n",
       "      <td>0.635567</td>\n",
       "      <td>0.066917</td>\n",
       "      <td>4</td>\n",
       "    </tr>\n",
       "    <tr>\n",
       "      <th>3</th>\n",
       "      <td>0.095647</td>\n",
       "      <td>0.635567</td>\n",
       "      <td>0.066917</td>\n",
       "      <td>4</td>\n",
       "    </tr>\n",
       "    <tr>\n",
       "      <th>4</th>\n",
       "      <td>0.095647</td>\n",
       "      <td>0.635567</td>\n",
       "      <td>0.066917</td>\n",
       "      <td>4</td>\n",
       "    </tr>\n",
       "  </tbody>\n",
       "</table>\n",
       "</div>"
      ],
      "text/plain": [
       "          R         G         B  lable\n",
       "0  0.095647  0.635567  0.066917      4\n",
       "1  0.095647  0.635567  0.066917      4\n",
       "2  0.095647  0.635567  0.066917      4\n",
       "3  0.095647  0.635567  0.066917      4\n",
       "4  0.095647  0.635567  0.066917      4"
      ]
     },
     "execution_count": 96,
     "metadata": {},
     "output_type": "execute_result"
    }
   ],
   "source": [
    "data_mean = data_c.copy()\n",
    "for i in range(8):\n",
    "    data_mean.loc[data_mean['lable'] == i, 'R'] = data_c[data_c['lable'] == i]['R'].mean()\n",
    "    data_mean.loc[data_mean['lable'] == i, 'G'] = data_c[data_c['lable'] == i]['G'].mean()\n",
    "    data_mean.loc[data_mean['lable'] == i, 'B'] = data_c[data_c['lable'] == i]['B'].mean()\n",
    "\n",
    "data_mean.head()"
   ]
  },
  {
   "cell_type": "code",
   "execution_count": 97,
   "metadata": {},
   "outputs": [
    {
     "data": {
      "text/html": [
       "<div>\n",
       "<style scoped>\n",
       "    .dataframe tbody tr th:only-of-type {\n",
       "        vertical-align: middle;\n",
       "    }\n",
       "\n",
       "    .dataframe tbody tr th {\n",
       "        vertical-align: top;\n",
       "    }\n",
       "\n",
       "    .dataframe thead th {\n",
       "        text-align: right;\n",
       "    }\n",
       "</style>\n",
       "<table border=\"1\" class=\"dataframe\">\n",
       "  <thead>\n",
       "    <tr style=\"text-align: right;\">\n",
       "      <th></th>\n",
       "      <th>R</th>\n",
       "      <th>G</th>\n",
       "      <th>B</th>\n",
       "      <th>lable</th>\n",
       "    </tr>\n",
       "  </thead>\n",
       "  <tbody>\n",
       "    <tr>\n",
       "      <th>0</th>\n",
       "      <td>0.054902</td>\n",
       "      <td>0.647059</td>\n",
       "      <td>0.023529</td>\n",
       "      <td>4</td>\n",
       "    </tr>\n",
       "    <tr>\n",
       "      <th>1</th>\n",
       "      <td>0.054902</td>\n",
       "      <td>0.647059</td>\n",
       "      <td>0.023529</td>\n",
       "      <td>4</td>\n",
       "    </tr>\n",
       "    <tr>\n",
       "      <th>2</th>\n",
       "      <td>0.054902</td>\n",
       "      <td>0.647059</td>\n",
       "      <td>0.023529</td>\n",
       "      <td>4</td>\n",
       "    </tr>\n",
       "    <tr>\n",
       "      <th>3</th>\n",
       "      <td>0.054902</td>\n",
       "      <td>0.647059</td>\n",
       "      <td>0.023529</td>\n",
       "      <td>4</td>\n",
       "    </tr>\n",
       "    <tr>\n",
       "      <th>4</th>\n",
       "      <td>0.054902</td>\n",
       "      <td>0.647059</td>\n",
       "      <td>0.023529</td>\n",
       "      <td>4</td>\n",
       "    </tr>\n",
       "  </tbody>\n",
       "</table>\n",
       "</div>"
      ],
      "text/plain": [
       "          R         G         B  lable\n",
       "0  0.054902  0.647059  0.023529      4\n",
       "1  0.054902  0.647059  0.023529      4\n",
       "2  0.054902  0.647059  0.023529      4\n",
       "3  0.054902  0.647059  0.023529      4\n",
       "4  0.054902  0.647059  0.023529      4"
      ]
     },
     "execution_count": 97,
     "metadata": {},
     "output_type": "execute_result"
    }
   ],
   "source": [
    "data_median = data_c.copy()\n",
    "for i in range(8):\n",
    "    data_median.loc[data_median['lable'] == i, 'R'] = data_c[data_c['lable'] == i]['R'].median()\n",
    "    data_median.loc[data_median['lable'] == i, 'G'] = data_c[data_c['lable'] == i]['G'].median()\n",
    "    data_median.loc[data_median['lable'] == i, 'B'] = data_c[data_c['lable'] == i]['B'].median()\n",
    "\n",
    "data_median.head()"
   ]
  },
  {
   "cell_type": "code",
   "execution_count": 98,
   "metadata": {},
   "outputs": [],
   "source": [
    "# _ = np.median(data_c.loc[data_c['lable'] == i, ['R', 'G', 'B']].to_numpy())\n",
    "# data_median.loc[data_median['lable'] == 3, ['R', 'G', 'B']] = _\n",
    "# # data_median.loc[data_median['lable'] == 3, 'R'] = _\n",
    "# # data_median.loc[data_median['lable'] == 3, 'G'] = _\n",
    "# # data_median.loc[data_median['lable'] == 3, 'B'] = _\n",
    "# data_median.loc[data_median['lable'] == 3]"
   ]
  },
  {
   "cell_type": "markdown",
   "metadata": {},
   "source": [
    "## 4. Измерьте качество получившейся сегментации с помощью метрики PSNR. \n",
    "Эту метрику нужно реализовать самостоятельно ([см. определение](https://ru.wikipedia.org/wiki/%D0%9F%D0%B8%D0%BA%D0%BE%D0%B2%D0%BE%D0%B5_%D0%BE%D1%82%D0%BD%D0%BE%D1%88%D0%B5%D0%BD%D0%B8%D0%B5_%D1%81%D0%B8%D0%B3%D0%BD%D0%B0%D0%BB%D0%B0_%D0%BA_%D1%88%D1%83%D0%BC%D1%83))."
   ]
  },
  {
   "cell_type": "code",
   "execution_count": 99,
   "metadata": {},
   "outputs": [],
   "source": [
    "# MSE = lambda I, K, width, height: 1 / (3 * width * height) * sum([(i['R'] - j['R'])**2 + (i['G'] - j['G'])**2 + (i['B'] - j['B'])**2 for (_, i), (_, j)  in zip(I.iterrows(), K.iterrows())])\n",
    "# mse = MSE(data_c, data_mean, width, height)\n",
    "# PSNR = lambda MAX, MSE: 20 * math.log(MAX / math.sqrt(MSE))\n",
    "# psnr_ = PSNR(1, mse)\n",
    "# psnr_"
   ]
  },
  {
   "cell_type": "code",
   "execution_count": 100,
   "metadata": {},
   "outputs": [],
   "source": [
    "# MSE = lambda I, K, width, height: 1 / (3 * width * height) * sum([(i['R'] - j['R'])**2 + (i['G'] - j['G'])**2 + (i['B'] - j['B'])**2 for (_, i), (_, j)  in zip(I.iterrows(), K.iterrows())])\n",
    "# MSE = lambda I, K, width, height: 1 / (3 * width * height) * sum([(i['R'] - j['R'] + i['G'] - j['G'] + i['B'] - j['B'])**2 for (_, i), (_, j)  in zip(I.iterrows(), K.iterrows())])\n",
    "# PSNR = lambda I, K, width, height, MAX: 20 * math.log(MAX / math.sqrt(MSE(I, K, width, height)))\n",
    "# 42.452351239513895"
   ]
  },
  {
   "cell_type": "code",
   "execution_count": 101,
   "metadata": {},
   "outputs": [],
   "source": [
    "# (data_c['R'] - data_mean['R']).head()\n",
    "# ((data_c['R'] - data_mean['R'])**2).sum()\n",
    "MSE = lambda I, K, width, height: ((I['R'] - K['R'])**2 + (I['G'] - K['G'])**2 + (I['B'] - K['B'])**2).sum() / (3 * width * height) # правильная\n",
    "# MSE = lambda I, K, width, height: ((I['R'] - K['R'])**2 / (width * height) + (I['G'] - K['G'])**2 / (width * height)  + (I['B'] - K['B'])**2 / (width * height)).sum() / 3\n",
    "PSNR = lambda I, K, width, height, MAX: 20 * math.log10(MAX / math.sqrt(MSE(I, K, width, height)))"
   ]
  },
  {
   "cell_type": "code",
   "execution_count": 102,
   "metadata": {},
   "outputs": [
    {
     "data": {
      "text/plain": [
       "18.436829014063576"
      ]
     },
     "execution_count": 102,
     "metadata": {},
     "output_type": "execute_result"
    }
   ],
   "source": [
    "psnr_mean = PSNR(data_c, data_mean, width, height, 1)\n",
    "psnr_mean"
   ]
  },
  {
   "cell_type": "code",
   "execution_count": 103,
   "metadata": {},
   "outputs": [
    {
     "data": {
      "text/plain": [
       "18.1379714433961"
      ]
     },
     "execution_count": 103,
     "metadata": {},
     "output_type": "execute_result"
    }
   ],
   "source": [
    "psnr_median = PSNR(data_c, data_median, width, height, 1)\n",
    "psnr_median"
   ]
  },
  {
   "cell_type": "markdown",
   "metadata": {},
   "source": [
    "## 5. Найдите минимальное количество кластеров, при котором значение PSNR выше 20 (можно рассмотреть не более 20 кластеров, но не забудьте рассмотреть оба способа заполнения пикселей одного кластера). \n",
    "Это число и будет ответом в данной задаче."
   ]
  },
  {
   "cell_type": "code",
   "execution_count": 104,
   "metadata": {},
   "outputs": [],
   "source": [
    "# means = []\n",
    "# medians = []\n",
    "# clustes = []\n",
    "# for count_cluster in range(1, 20):\n",
    "#     kmeans = KMeans(n_clusters=count_cluster, init='k-means++', random_state=241, n_jobs=-1).fit(data)\n",
    "#     cluster = pd.Series(kmeans.labels_, name='lable')\n",
    "#     data_c = data.join(cluster)\n",
    "    \n",
    "#     data_mean = data_c.copy()\n",
    "#     for i in range(count_cluster):\n",
    "#         data_mean.loc[data_mean['lable'] == i, 'R'] = data_c[data_c['lable'] == i]['R'].mean()\n",
    "#         data_mean.loc[data_mean['lable'] == i, 'G'] = data_c[data_c['lable'] == i]['G'].mean()\n",
    "#         data_mean.loc[data_mean['lable'] == i, 'B'] = data_c[data_c['lable'] == i]['B'].mean()\n",
    "    \n",
    "#     psnr_mean = PSNR(data_c, data_mean, width, height, 1)\n",
    "\n",
    "#     data_median = data_c.copy()\n",
    "#     for i in range(count_cluster):\n",
    "#         data_median.loc[data_median['lable'] == i, 'R'] = data_c[data_c['lable'] == i]['R'].median()\n",
    "#         data_median.loc[data_median['lable'] == i, 'G'] = data_c[data_c['lable'] == i]['G'].median()\n",
    "#         data_median.loc[data_median['lable'] == i, 'B'] = data_c[data_c['lable'] == i]['B'].median()\n",
    "    \n",
    "#     psnr_median = PSNR(data_c, data_median, width, height, 1)\n",
    "    \n",
    "#     clustes.append(count_cluster)\n",
    "#     means.append(psnr_mean)\n",
    "#     medians.append(psnr_median)"
   ]
  },
  {
   "cell_type": "code",
   "execution_count": 105,
   "metadata": {},
   "outputs": [],
   "source": [
    "def compute_psnr(count_cluster):\n",
    "\n",
    "    kmeans = KMeans(n_clusters=count_cluster, init='k-means++', random_state=241).fit(data)\n",
    "    cluster = pd.Series(kmeans.labels_, name='lable')\n",
    "    data_c = data.join(cluster)\n",
    "    \n",
    "    data_mean = data_c.copy()\n",
    "    for i in range(count_cluster):\n",
    "        data_mean.loc[data_mean['lable'] == i, 'R'] = data_c[data_c['lable'] == i]['R'].mean()\n",
    "        data_mean.loc[data_mean['lable'] == i, 'G'] = data_c[data_c['lable'] == i]['G'].mean()\n",
    "        data_mean.loc[data_mean['lable'] == i, 'B'] = data_c[data_c['lable'] == i]['B'].mean()\n",
    "    \n",
    "    psnr_mean = PSNR(data_c, data_mean, width, height, 1)\n",
    "\n",
    "    data_median = data_c.copy()\n",
    "    for i in range(count_cluster):\n",
    "        data_median.loc[data_median['lable'] == i, 'R'] = data_c[data_c['lable'] == i]['R'].median()\n",
    "        data_median.loc[data_median['lable'] == i, 'G'] = data_c[data_c['lable'] == i]['G'].median()\n",
    "        data_median.loc[data_median['lable'] == i, 'B'] = data_c[data_c['lable'] == i]['B'].median()\n",
    "    \n",
    "    psnr_median = PSNR(data_c, data_median, width, height, 1)\n",
    "    \n",
    "    return (count_cluster, psnr_mean, psnr_median)"
   ]
  },
  {
   "cell_type": "code",
   "execution_count": 106,
   "metadata": {},
   "outputs": [],
   "source": [
    "# def compute_psnr(count_cluster):\n",
    "\n",
    "#     kmeans = KMeans(n_clusters=count_cluster, init='k-means++', random_state=241).fit(data)\n",
    "#     cluster = pd.Series(kmeans.labels_, name='lable')\n",
    "#     data_c = data.join(cluster)\n",
    "    \n",
    "#     data_mean = data_c.copy()\n",
    "#     for i in range(count_cluster):\n",
    "#         data_mean.loc[data_mean['lable'] == i, ['R', 'G', 'B']] = np.mean(data_c.loc[data_c['lable'] == i, ['R', 'G', 'B']].to_numpy())\n",
    "    \n",
    "#     psnr_mean = PSNR(data_c, data_mean, width, height, 1)\n",
    "\n",
    "#     data_median = data_c.copy()\n",
    "#     for i in range(count_cluster):\n",
    "#         data_median.loc[data_median['lable'] == i, ['R', 'G', 'B']] = np.median(data_c.loc[data_c['lable'] == i, ['R', 'G', 'B']].to_numpy())\n",
    "    \n",
    "#     psnr_median = PSNR(data_c, data_median, width, height, 1)\n",
    "    \n",
    "#     return (count_cluster, psnr_mean, psnr_median)"
   ]
  },
  {
   "cell_type": "code",
   "execution_count": 107,
   "metadata": {},
   "outputs": [],
   "source": [
    "# def compute_psnr(count_cluster):\n",
    "\n",
    "#     kmeans = KMeans(n_clusters=count_cluster, init='k-means++', random_state=241).fit(data)\n",
    "#     cluster = pd.Series(kmeans.labels_, name='lable')\n",
    "#     data_c = data.join(cluster)\n",
    "    \n",
    "#     data_mean = pd.concat([pd.Series(np.zeros(len(data_c)), name='mean'), data_c['lable']], axis=1)\n",
    "#     for i in range(count_cluster):\n",
    "#         data_mean.loc[data_mean['lable'] == i, 'mean'] = np.mean(data_c.loc[data_c['lable'] == i, ['R', 'G', 'B']].to_numpy())\n",
    "    \n",
    "#     psnr_mean = PSNR(data_c, data_mean, width, height, 1)\n",
    "\n",
    "#     data_median = pd.concat([pd.Series(np.zeros(len(data_c)), name='median'), data_c['lable']], axis=1)\n",
    "#     for i in range(count_cluster):\n",
    "#         data_median.loc[data_median['lable'] == i, 'median'] = np.median(data_c.loc[data_c['lable'] == i, ['R', 'G', 'B']].to_numpy())\n",
    "    \n",
    "#     psnr_median = PSNR(data_c, data_median, width, height, 1)\n",
    "    \n",
    "#     return (count_cluster, psnr_mean, psnr_median)"
   ]
  },
  {
   "cell_type": "code",
   "execution_count": 108,
   "metadata": {},
   "outputs": [],
   "source": [
    "# %%time\n",
    "from multiprocessing import Pool\n",
    "pool = Pool(4)  # Create a multiprocessing Pool\n",
    "out = pool.map(compute_psnr, range(1, 20))  # process data_inputs iterable with pool"
   ]
  },
  {
   "cell_type": "code",
   "execution_count": 109,
   "metadata": {},
   "outputs": [
    {
     "data": {
      "text/plain": [
       "[(1, 9.818835544771291, 9.4278404605074),\n",
       " (2, 12.080177084931085, 11.655077266907853),\n",
       " (3, 13.153487044607246, 12.774948175099809),\n",
       " (4, 14.3678179408688, 14.005928721924676),\n",
       " (5, 15.52714619730599, 15.177909077346127),\n",
       " (6, 16.543994096630183, 16.051176778469276),\n",
       " (7, 17.640992508636522, 17.339368491425027),\n",
       " (8, 18.436829014063576, 18.1379714433961),\n",
       " (9, 19.112672735788138, 18.81388735617062),\n",
       " (10, 19.64075663591531, 19.417472515521055),\n",
       " (11, 20.127588746514583, 19.84128407389954),\n",
       " (12, 20.5925163195166, 20.304411065558547),\n",
       " (13, 21.02137967959436, 20.792764442541802),\n",
       " (14, 21.29684656191451, 21.041187112763318),\n",
       " (15, 21.60717171908997, 21.40644006041166),\n",
       " (16, 21.863109812962833, 21.676272681421985),\n",
       " (17, 22.11980599277126, 21.919033084798265),\n",
       " (18, 22.335498740502754, 22.129324222239887),\n",
       " (19, 22.522097823218104, 22.36097494475569)]"
      ]
     },
     "execution_count": 109,
     "metadata": {},
     "output_type": "execute_result"
    }
   ],
   "source": [
    "out"
   ]
  }
 ],
 "metadata": {
  "kernelspec": {
   "display_name": "Python 3",
   "language": "python",
   "name": "python3"
  },
  "language_info": {
   "codemirror_mode": {
    "name": "ipython",
    "version": 3
   },
   "file_extension": ".py",
   "mimetype": "text/x-python",
   "name": "python",
   "nbconvert_exporter": "python",
   "pygments_lexer": "ipython3",
   "version": "3.7.3"
  }
 },
 "nbformat": 4,
 "nbformat_minor": 2
}
